{
 "cells": [
  {
   "cell_type": "code",
   "execution_count": 1,
   "metadata": {},
   "outputs": [
    {
     "ename": "ModuleNotFoundError",
     "evalue": "No module named 'httpx'",
     "output_type": "error",
     "traceback": [
      "\u001b[1;31m---------------------------------------------------------------------------\u001b[0m",
      "\u001b[1;31mModuleNotFoundError\u001b[0m                       Traceback (most recent call last)",
      "Input \u001b[1;32mIn [1]\u001b[0m, in \u001b[0;36m<cell line: 1>\u001b[1;34m()\u001b[0m\n\u001b[1;32m----> 1\u001b[0m \u001b[38;5;28;01mimport\u001b[39;00m \u001b[38;5;21;01mhttpx\u001b[39;00m \u001b[38;5;28;01mas\u001b[39;00m \u001b[38;5;21;01mrq\u001b[39;00m\n\u001b[0;32m      2\u001b[0m \u001b[38;5;28;01mimport\u001b[39;00m \u001b[38;5;21;01mpandas\u001b[39;00m \u001b[38;5;28;01mas\u001b[39;00m \u001b[38;5;21;01mpd\u001b[39;00m\n",
      "\u001b[1;31mModuleNotFoundError\u001b[0m: No module named 'httpx'"
     ]
    }
   ],
   "source": [
    "import httpx as rq\n",
    "import pandas as pd\n"
   ]
  },
  {
   "cell_type": "markdown",
   "metadata": {},
   "source": [
    "# database"
   ]
  },
  {
   "cell_type": "code",
   "execution_count": 5,
   "metadata": {},
   "outputs": [
    {
     "ename": "ModuleNotFoundError",
     "evalue": "No module named 'sqlalchemy'",
     "output_type": "error",
     "traceback": [
      "\u001b[1;31m---------------------------------------------------------------------------\u001b[0m",
      "\u001b[1;31mModuleNotFoundError\u001b[0m                       Traceback (most recent call last)",
      "Cell \u001b[1;32mIn[5], line 1\u001b[0m\n\u001b[1;32m----> 1\u001b[0m \u001b[38;5;28;01mfrom\u001b[39;00m \u001b[38;5;21;01msqlalchemy\u001b[39;00m \u001b[38;5;28;01mimport\u001b[39;00m create_engine, Table, Column, MetaData, Integer, String\n\u001b[0;32m      4\u001b[0m engine \u001b[38;5;241m=\u001b[39m create_engine(\u001b[38;5;124m\"\u001b[39m\u001b[38;5;124msqlite:///news.db\u001b[39m\u001b[38;5;124m\"\u001b[39m, echo\u001b[38;5;241m=\u001b[39m\u001b[38;5;28;01mTrue\u001b[39;00m)\n\u001b[0;32m      6\u001b[0m meta \u001b[38;5;241m=\u001b[39m MetaData()\n",
      "\u001b[1;31mModuleNotFoundError\u001b[0m: No module named 'sqlalchemy'"
     ]
    }
   ],
   "source": [
    "from sqlalchemy import create_engine, Table, Column, MetaData, Integer, String\n",
    "\n",
    "\n",
    "engine = create_engine(\"sqlite:///news.db\", echo=True)\n",
    "\n",
    "meta = MetaData()\n",
    "\n",
    "news = Table(\n",
    "    \"news\",\n",
    "    meta,\n",
    "    Column(\"author\", String),\n",
    "    Column(\"title\", String),\n",
    "    Column(\"description\", String),\n",
    "    Column(\"url\", String, primary_key=True),\n",
    "    Column(\"urlToImage\", String),\n",
    "    Column(\"publishedAt\", String),\n",
    "    Column(\"content\", String),\n",
    "    Column(\"source_id\", String),\n",
    "    Column(\"source_name\", String),\n",
    ")\n",
    "\n",
    "meta.create_all(engine)\n"
   ]
  },
  {
   "cell_type": "code",
   "execution_count": 3,
   "metadata": {},
   "outputs": [
    {
     "name": "stdout",
     "output_type": "stream",
     "text": [
      "2024-03-28 18:48:22,702 INFO sqlalchemy.engine.Engine BEGIN (implicit)\n",
      "2024-03-28 18:48:22,704 INFO sqlalchemy.engine.Engine PRAGMA main.table_info(\"SELECT * FROM news\")\n",
      "2024-03-28 18:48:22,706 INFO sqlalchemy.engine.Engine [raw sql] ()\n",
      "2024-03-28 18:48:22,708 INFO sqlalchemy.engine.Engine PRAGMA temp.table_info(\"SELECT * FROM news\")\n",
      "2024-03-28 18:48:22,709 INFO sqlalchemy.engine.Engine [raw sql] ()\n",
      "2024-03-28 18:48:22,711 INFO sqlalchemy.engine.Engine SELECT * FROM news\n",
      "2024-03-28 18:48:22,713 INFO sqlalchemy.engine.Engine [raw sql] ()\n",
      "2024-03-28 18:48:22,718 INFO sqlalchemy.engine.Engine ROLLBACK\n",
      "2024-03-28 18:48:24,479 INFO sqlalchemy.engine.Engine BEGIN (implicit)\n",
      "2024-03-28 18:48:24,486 INFO sqlalchemy.engine.Engine PRAGMA main.table_info(\"news\")\n",
      "2024-03-28 18:48:24,487 INFO sqlalchemy.engine.Engine [raw sql] ()\n",
      "2024-03-28 18:48:24,490 INFO sqlalchemy.engine.Engine PRAGMA main.table_info(\"news\")\n",
      "2024-03-28 18:48:24,492 INFO sqlalchemy.engine.Engine [raw sql] ()\n",
      "2024-03-28 18:48:24,494 INFO sqlalchemy.engine.Engine SELECT name FROM sqlite_master WHERE type='table' AND name NOT LIKE 'sqlite~_%' ESCAPE '~' ORDER BY name\n",
      "2024-03-28 18:48:24,496 INFO sqlalchemy.engine.Engine [raw sql] ()\n",
      "2024-03-28 18:48:24,499 INFO sqlalchemy.engine.Engine SELECT name FROM sqlite_master WHERE type='view' AND name NOT LIKE 'sqlite~_%' ESCAPE '~' ORDER BY name\n",
      "2024-03-28 18:48:24,500 INFO sqlalchemy.engine.Engine [raw sql] ()\n",
      "2024-03-28 18:48:24,503 INFO sqlalchemy.engine.Engine PRAGMA main.table_xinfo(\"news\")\n",
      "2024-03-28 18:48:24,505 INFO sqlalchemy.engine.Engine [raw sql] ()\n",
      "2024-03-28 18:48:24,508 INFO sqlalchemy.engine.Engine SELECT sql FROM  (SELECT * FROM sqlite_master UNION ALL   SELECT * FROM sqlite_temp_master) WHERE name = ? AND type in ('table', 'view')\n",
      "2024-03-28 18:48:24,510 INFO sqlalchemy.engine.Engine [raw sql] ('news',)\n",
      "2024-03-28 18:48:24,512 INFO sqlalchemy.engine.Engine PRAGMA main.foreign_key_list(\"news\")\n",
      "2024-03-28 18:48:24,513 INFO sqlalchemy.engine.Engine [raw sql] ()\n",
      "2024-03-28 18:48:24,514 INFO sqlalchemy.engine.Engine PRAGMA temp.foreign_key_list(\"news\")\n",
      "2024-03-28 18:48:24,515 INFO sqlalchemy.engine.Engine [raw sql] ()\n",
      "2024-03-28 18:48:24,518 INFO sqlalchemy.engine.Engine SELECT sql FROM  (SELECT * FROM sqlite_master UNION ALL   SELECT * FROM sqlite_temp_master) WHERE name = ? AND type in ('table', 'view')\n",
      "2024-03-28 18:48:24,519 INFO sqlalchemy.engine.Engine [raw sql] ('news',)\n",
      "2024-03-28 18:48:24,527 INFO sqlalchemy.engine.Engine PRAGMA main.index_list(\"news\")\n",
      "2024-03-28 18:48:24,530 INFO sqlalchemy.engine.Engine [raw sql] ()\n",
      "2024-03-28 18:48:24,533 INFO sqlalchemy.engine.Engine PRAGMA main.table_info(\"news\")\n",
      "2024-03-28 18:48:24,534 INFO sqlalchemy.engine.Engine [raw sql] ()\n",
      "2024-03-28 18:48:24,536 INFO sqlalchemy.engine.Engine PRAGMA main.index_list(\"news\")\n",
      "2024-03-28 18:48:24,537 INFO sqlalchemy.engine.Engine [raw sql] ()\n",
      "2024-03-28 18:48:24,539 INFO sqlalchemy.engine.Engine PRAGMA main.index_info(\"sqlite_autoindex_news_1\")\n",
      "2024-03-28 18:48:24,540 INFO sqlalchemy.engine.Engine [raw sql] ()\n",
      "2024-03-28 18:48:24,541 INFO sqlalchemy.engine.Engine SELECT sql FROM  (SELECT * FROM sqlite_master UNION ALL   SELECT * FROM sqlite_temp_master) WHERE name = ? AND type in ('table', 'view')\n",
      "2024-03-28 18:48:24,542 INFO sqlalchemy.engine.Engine [raw sql] ('news',)\n",
      "2024-03-28 18:48:24,548 INFO sqlalchemy.engine.Engine \n",
      "DROP TABLE news\n",
      "2024-03-28 18:48:24,549 INFO sqlalchemy.engine.Engine [no key 0.00134s] ()\n",
      "2024-03-28 18:48:24,561 INFO sqlalchemy.engine.Engine \n",
      "CREATE TABLE news (\n",
      "\t\"index\" BIGINT, \n",
      "\tauthor TEXT, \n",
      "\ttitle TEXT, \n",
      "\tdescription TEXT, \n",
      "\turl TEXT, \n",
      "\t\"urlToImage\" TEXT, \n",
      "\t\"publishedAt\" TEXT, \n",
      "\tcontent TEXT, \n",
      "\tsource_id TEXT, \n",
      "\tsource_name TEXT\n",
      ")\n",
      "\n",
      "\n",
      "2024-03-28 18:48:24,562 INFO sqlalchemy.engine.Engine [no key 0.00147s] ()\n",
      "2024-03-28 18:48:24,570 INFO sqlalchemy.engine.Engine CREATE INDEX ix_news_index ON news (\"index\")\n",
      "2024-03-28 18:48:24,572 INFO sqlalchemy.engine.Engine [no key 0.00138s] ()\n",
      "2024-03-28 18:48:24,584 INFO sqlalchemy.engine.Engine INSERT INTO news (\"index\", author, title, description, url, \"urlToImage\", \"publishedAt\", content, source_id, source_name) VALUES (?, ?, ?, ?, ?, ?, ?, ?, ?, ?)\n",
      "2024-03-28 18:48:24,585 INFO sqlalchemy.engine.Engine [generated in 0.00165s] [(0, 'Sheena Vasani', 'The new MacBook Air M3 is $100 off for the first time', 'Apple’s M3-powered MacBook is down to $999.99 in black, which is a $100 discount we’re seeing for the first time.', 'http://www.theverge.com/2024/3/27/24113809/apple-macbook-air-m3-deal-sale', 'https://cdn.vox-cdn.com/thumbor/jpk-FhSV3aZmPpHRHFcLgdpdZXw=/0x0:1960x1102/1200x628/filters:focal(980x551:981x552)/cdn.vox-cdn.com/uploads/chorus_asset/file/25317890/Apple_MacBook_Air_lifestyle_gaming_240304_big.jpg.large_2x.jpg', '2024-03-27T20:08:54Z', 'The new MacBook Air M3 is $100 off for the first time\\r\\nThe new MacBook Air M3 is $100 off for the first time\\r\\n / Apples newest laptop is down to a new all-time low just three weeks after its release.… [+1201 chars]', 'the-verge', 'The Verge'), (1, None, '[Removed]', '[Removed]', 'https://removed.com', None, '1970-01-01T00:00:00Z', '[Removed]', None, '[Removed]'), (2, 'Kevin Purdy', '“MFA Fatigue” attack targets iPhone owners with endless password reset prompts', 'Rapid-fire prompts sometimes followed with spoofed calls from \"Apple support.\"', 'https://arstechnica.com/security/2024/03/mfa-fatigue-attack-targets-iphone-owners-with-endless-password-reset-prompts/', 'https://cdn.arstechnica.net/wp-content/uploads/2024/03/iphone_pass_prompt2_redo-760x380.jpg', '2024-03-27T18:10:10+00:00', 'Enlarge/ They look like normal notifications, but opening an iPhone with one or more of these stacked up, you won\\'t be able to do much of anything until you tap \"Allow\" or \"Don\\'t Allow.\" And they\\'re … [+4938 chars]', 'ars-technica', 'Ars Technica'), (3, 'Alex Wilhelm', \"TechCrunch Minute: Robinhood's credit card has arrived to take on Apple and any upcoming challengers | TechCrunch\", \"Robinhood's new credit card was revealed Tuesday, with a particular feature: the ability to invest cash back bonuses into investments.\", 'https://techcrunch.com/2024/03/27/techcrunch-minute-robinhoods-credit-card-has-arrived-to-take-on-apple-and-any-upcoming-challengers/', 'https://techcrunch.com/wp-content/uploads/2024/03/Robinhood-TC-Minute-Site.png?resize=1200,675', '2024-03-27T15:43:20Z', 'Robinhood’s new credit card was revealed Tuesday, and though it’s only available for Robinhood Gold members, the Gold Card does have a feature that’s spurring headlines: the ability to invest cash ba… [+1036 chars]', 'techcrunch', 'TechCrunch'), (4, 'Oli Welsh', 'Katamari Damacy’s classic soundtrack hits Spotify, Apple Music at last', 'The original soundtrack album for Keita Takahashi’s surreal masterpiece has been published to celebrate the PS2 game’s 20th anniversary', 'https://www.polygon.com/24113438/katamari-damacy-soundtrack-on-spotify-at-last', 'https://cdn.vox-cdn.com/thumbor/CNMZsw_WfoR1o_zMyhc58pEQ6Y0=/344x431:1100x827/fit-in/1200x630/cdn.vox-cdn.com/assets/1778333/Katamari_Damacy.jpg', '2024-03-27T14:51:45Z', 'Keita Takahashis surreal gaming masterpiece Katamari Damacymarks its 20th anniversary this year, and publisher Bandai Namco has done something truly meaningful to celebrate: Its resolved whatever rig… [+1824 chars]', 'polygon', 'Polygon'), (5, 'Brian Heater', 'Orchard vision system turns farm equipment into AI-powered data collectors | TechCrunch', 'Agricultural robotics are not a new phenomenon. We’ve seen systems that pick apples and berries, kill weeds, plant trees, transport produce and more. But', 'https://techcrunch.com/2024/03/27/orchard-robotics-ai-powered-camera-system-turns-existing-farm-equipment-into-apple-growing-data-collectors/', 'https://techcrunch.com/wp-content/uploads/2024/03/Screenshot-2024-03-26-at-11.01.46\\u202fAM.jpg?resize=1200,631', '2024-03-26T21:11:21Z', 'Agricultural robotics are not a new phenomenon. Weve seen systems that pick apples and berries, kill weeds, plant trees, transport produce and more. But while these functions are understood to be the… [+2328 chars]', 'techcrunch', 'TechCrunch'), (6, None, '[Removed]', '[Removed]', 'https://removed.com', None, '1970-01-01T00:00:00Z', '[Removed]', None, '[Removed]'), (7, 'Katherine Tangalakis-Lippert', \"Walt Mossberg says the DOJ's claim of an Apple monopoly is 'laughable'\", \"Former Wall Street Journal columnist Walt Mossberg wrote in a post on Threads that the DOJ's antitrust claim against Apple seems weak.\", 'http://uk.businessinsider.com/doj-apple-monopoly-claim-laughable-walt-mossberg-threads-2024-3', 'https://i.insider.com/65ff6a931caec1275a68cc72?width=1200&format=jpeg', '2024-03-24T01:35:39Z', 'The DOJ this week filed an antitrust lawsuit against Apple, claiming the company abused its monopoly power to throttle competition among smartphone manufacturers.\\r\\nWhile insiders and analysts across … [+3273 chars]', 'business-insider-uk', 'Business Insider (UK)')  ... displaying 10 of 11 total bound parameter sets ...  (9, 'GQ', 'Apple Neuheiten: Was wir vor der ersten Keynote 2021 wissen!', 'Bald soll es so weit sein: Bei der ersten Keynote 2021 präsentiert Apple Neues aus Cupertino. Auf diese Produkte dürfen wir uns freuen!', 'https://www.gq-magazin.de/auto-technik/article/apple-neuheiten-2021-das-wissen-wir-vor-keynote', 'https://res.cloudinary.com/wired-de/image/upload/t_teaser_square/v1/0/apple-neuheiten-event-erste-keynote-2021-technik-aufmjpg.jpg', '2021-03-23T17:09:52Z', 'Auf eines ist im Frühjahr immer Verlass: Apple präsentiert seine (ersten) neuen Produkte. Glauben wir den jüngsten Gerüchten, wird das auch 2021 so sein und dieses Jahr sogar wieder live aus Cupertin… [+2936 chars]', 'wired-de', 'Wired.de'), (10, None, \"Akram's yorkers, Hegg's hits, and Chapple's 6 for 18 | ESPNcricinfo.com\", 'This week, we relive the glorious one-day triumphs of Lancashire in the 1990s | ESPNcricinfo.com', 'http://www.espncricinfo.com/story/_/id/29102935/o-my-akram-my-hegg-long-ago', 'https://a3.espncdn.com/combiner/i?img=%2Fi%2Fcricket%2Fcricinfo%2F1221634_1296x729.jpg', '2020-04-27T10:24:08Z', \"With still no live cricket in sight, we're digging deep into YouTube to keep ourselves entertained. This week, a trip down memory lane with one of the most dominant one-day sides ever - Lancashire in… [+5185 chars]\", 'espn-cric-info', 'ESPN Cric Info')]\n",
      "2024-03-28 18:48:24,589 INFO sqlalchemy.engine.Engine COMMIT\n",
      "Webhook sent with new information: 11 new articles.\n"
     ]
    }
   ],
   "source": [
    "existing_data = pd.read_sql(\"SELECT * FROM news\", engine)\n",
    "\n",
    "# Fetch new data\n",
    "params = {\n",
    "    \"q\": \"Apple\",\n",
    "    \"sortBy\": \"popularity\",\n",
    "    \"apiKey\": \"45a541a896864ea0becf962b10f5a79e\",\n",
    "}\n",
    "response = rq.get(\"https://newsapi.org/v2/top-headlines\", params=params)\n",
    "new_data = pd.json_normalize(response.json()[\"articles\"], sep=\"_\")\n",
    "\n",
    "# Filter out data that already exists\n",
    "new_data = new_data[~new_data[\"url\"].isin(existing_data[\"url\"])]\n",
    "\n",
    "# Append new data to existing data\n",
    "merged_data = pd.concat([existing_data, new_data])\n",
    "\n",
    "# Update database\n",
    "merged_data.to_sql(\"news\", engine, if_exists=\"replace\")\n",
    "\n",
    "# Send webhook with new information\n",
    "# Implement webhook sending logic here\n",
    "print(\"Webhook sent with new information:\", new_data.shape[0], \"new articles.\")"
   ]
  }
 ],
 "metadata": {
  "kernelspec": {
   "display_name": ".venv",
   "language": "python",
   "name": "python3"
  },
  "language_info": {
   "codemirror_mode": {
    "name": "ipython",
    "version": 3
   },
   "file_extension": ".py",
   "mimetype": "text/x-python",
   "name": "python",
   "nbconvert_exporter": "python",
   "pygments_lexer": "ipython3",
   "version": "3.9.12"
  }
 },
 "nbformat": 4,
 "nbformat_minor": 2
}
